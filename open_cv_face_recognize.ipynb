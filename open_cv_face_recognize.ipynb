{
 "cells": [
  {
   "cell_type": "markdown",
   "metadata": {},
   "source": [
    "# single face detection"
   ]
  },
  {
   "cell_type": "code",
   "execution_count": 3,
   "metadata": {},
   "outputs": [
    {
     "name": "stdout",
     "output_type": "stream",
     "text": [
      "[[805 578 200 200]\n",
      " [343 194 363 363]]\n"
     ]
    },
    {
     "data": {
      "text/plain": [
       "-1"
      ]
     },
     "execution_count": 3,
     "metadata": {},
     "output_type": "execute_result"
    }
   ],
   "source": [
    "try:\n",
    "    import cv2\n",
    "except Exception as e:\n",
    "    print(\"please install cv2 module\")\n",
    "from random import randrange as r\n",
    "#loading trained harcascade dataset\n",
    "data=cv2.CascadeClassifier(\"C:\\\\Users\\\\LAEEQAKBAR\\\\Desktop\\\\cv2\\\\opencv\\\\data\\\\haarcascades\\\\haarcascade_frontalface_default.xml\")\n",
    "#reading the imgage through cv2\n",
    "img=cv2.imread(\"deepika.jpg\")\n",
    "\n",
    "#displaying the image and convert to\n",
    "#cv2.imshow(singlewindow,img)\n",
    "\n",
    "grayimg=cv2.cvtColor(img,cv2.COLOR_BGR2GRAY)\n",
    "\n",
    "#cv2.imshow(\"single_person\",grayimg) # one arugemnt window name and 2nd arguments image to read\n",
    "\n",
    "# identify the fce coordinates\n",
    "\n",
    "facecoordinates=data.detectMultiScale(grayimg,1.1,4)\n",
    "#detectmutlisclae will detect the img small to big and find the coordinates\n",
    "#print(facecoordinates)\n",
    "#cv2.waitKey() # pause the window untillthe next line of code\n",
    "#converion of black and white\n",
    "#openccv works on black and white\n",
    "#grayimg=cv2.cvtColor(img,cv2.COLOR_BGR2GRAY)\n",
    "#[[805 578 200 200]\n",
    "# [343 194 363 363]\n",
    "#[377 340 300 300]]\n",
    "print(facecoordinates)\n",
    "\n",
    "x,y,w,h=facecoordinates[1]\n",
    "cv2.rectangle(img,(x,y),(x+w,y+h),(0,234,256),3)\n",
    "cv2.imshow(\"window\",img)\n",
    "cv2.waitKey()\n"
   ]
  },
  {
   "cell_type": "markdown",
   "metadata": {},
   "source": [
    "# multiface detection"
   ]
  },
  {
   "cell_type": "code",
   "execution_count": null,
   "metadata": {},
   "outputs": [
    {
     "name": "stdout",
     "output_type": "stream",
     "text": [
      "[[643 166 130 130]\n",
      " [813 183 103 103]\n",
      " [500 202  85  85]\n",
      " [662 218  90  90]\n",
      " [250 240  75  75]\n",
      " [379 261  71  71]\n",
      " [138 273  77  77]]\n"
     ]
    }
   ],
   "source": [
    "import cv2\n",
    "from random import randrange as r\n",
    "#loading trained harcascade dataset\n",
    "data=cv2.CascadeClassifier(\"C:\\\\Users\\\\LAEEQAKBAR\\\\Desktop\\\\cv2\\\\opencv\\\\data\\\\haarcascades\\\\haarcascade_frontalface_default.xml\")\n",
    "#reading the imgage through cv2\n",
    "img=cv2.imread(\"sample.jpg\")\n",
    "\n",
    "#displaying the image and convert to\n",
    "#cv2.imshow(singlewindow,img)\n",
    "\n",
    "grayimg=cv2.cvtColor(img,cv2.COLOR_BGR2GRAY)\n",
    "\n",
    "#cv2.imshow(\"single_person\",grayimg) # one arugemnt window name and 2nd arguments image to read\n",
    "\n",
    "# identify the fce coordinates\n",
    "\n",
    "facecoordinates=data.detectMultiScale(grayimg,1.1,4)\n",
    "#detectmutlisclae will detect the img small to bug and find the coordinates\n",
    "#print(facecoordinates)\n",
    "#cv2.waitKey() # pause the window untillthe next line of code\n",
    "#converion of black and white\n",
    "#openccv works on black and white\n",
    "#grayimg=cv2.cvtColor(img,cv2.COLOR_BGR2GRAY)\n",
    "#[[805 578 200 200]\n",
    "# [343 194 363 363]\n",
    "#[377 340 300 300]]\n",
    "print(facecoordinates)\n",
    "for i in range(0,7):\n",
    "    if i ==0:\n",
    "        continue\n",
    "    x,y,w,h=facecoordinates[i]\n",
    "    cv2.rectangle(img,(x,y),(x+w,y+h),(0,234,256),3)\n",
    "cv2.imshow(\"window\",img)\n",
    "cv2.waitKey()\n",
    "\n",
    "\n"
   ]
  },
  {
   "cell_type": "markdown",
   "metadata": {},
   "source": [
    "# live video face detection"
   ]
  },
  {
   "cell_type": "code",
   "execution_count": null,
   "metadata": {},
   "outputs": [],
   "source": [
    "try:\n",
    "    import cv2\n",
    "except Exception as e:\n",
    "    print(\"install the cv2 module\")\n",
    "from random import randrange as r\n",
    "#reading the trained dataset\n",
    "data=cv2.CascadeClassifier(\"C:\\\\Users\\\\LAEEQAKBAR\\\\Desktop\\\\cv2\\\\opencv\\\\data\\\\haarcascades\\\\haarcascade_frontalface_default.xml\")\n",
    "\n",
    "\n",
    "#displaying the image and convert to\n",
    "#cv2.imshow(singlewindow,img)\n",
    "#open the webcamm\n",
    "webcam=cv2.VideoCapture(0) # default is 0 or you can pass video file name\n",
    "# for continious capturing\n",
    "while True:\n",
    "\n",
    "    success,img=webcam.read()\n",
    "    \n",
    "    grayimg=cv2.cvtColor(img,cv2.COLOR_BGR2GRAY) # convert to gray\n",
    "    \n",
    "    facecoordinates=data.detectMultiScale(grayimg,1.1,4)\n",
    "    \n",
    "    for  x,y,w,h in facecoordinates:\n",
    "    \n",
    "       cv2.rectangle(img,(x,y),(x+w,y+h),(0,234,256),2)\n",
    "    \n",
    "    cv2.imshow(\"window\",img)\n",
    "    \n",
    "    key=cv2.waitKey(30) \n",
    "    \n",
    "    if(key==81 or key==113):\n",
    "                                break\n",
    "webcam.release()\n"
   ]
  },
  {
   "cell_type": "code",
   "execution_count": null,
   "metadata": {},
   "outputs": [],
   "source": []
  },
  {
   "cell_type": "code",
   "execution_count": null,
   "metadata": {},
   "outputs": [],
   "source": []
  },
  {
   "cell_type": "code",
   "execution_count": null,
   "metadata": {},
   "outputs": [],
   "source": []
  }
 ],
 "metadata": {
  "kernelspec": {
   "display_name": "Python 3",
   "language": "python",
   "name": "python3"
  },
  "language_info": {
   "codemirror_mode": {
    "name": "ipython",
    "version": 3
   },
   "file_extension": ".py",
   "mimetype": "text/x-python",
   "name": "python",
   "nbconvert_exporter": "python",
   "pygments_lexer": "ipython3",
   "version": "3.8.2"
  }
 },
 "nbformat": 4,
 "nbformat_minor": 4
}
